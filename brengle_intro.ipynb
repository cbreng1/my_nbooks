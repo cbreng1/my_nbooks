{
 "cells": [
  {
   "cell_type": "markdown",
   "id": "5efa9482-8331-45ed-aa2d-ec8ddd0619b2",
   "metadata": {
    "tags": []
   },
   "source": [
    "# A First Notebook"
   ]
  },
  {
   "cell_type": "markdown",
   "id": "0e4a3e91-4882-4dd5-99af-d23389ede360",
   "metadata": {},
   "source": [
    "## Courtney Brengle"
   ]
  },
  {
   "cell_type": "code",
   "execution_count": 1,
   "id": "1d7ba137-03e6-4a69-885f-701b4cb43794",
   "metadata": {},
   "outputs": [],
   "source": [
    "#create list of random numbers\n",
    "import random\n",
    "list1 = range(40)\n",
    "nums = [random.randint(30,100) for x in list1]"
   ]
  },
  {
   "cell_type": "code",
   "execution_count": 2,
   "id": "ec82fde6-b8a6-420c-bfed-2122dd47a277",
   "metadata": {},
   "outputs": [
    {
     "name": "stdout",
     "output_type": "stream",
     "text": [
      "33 34 35 36 36 36 37 40 45 51 58 58 59 61 61 63 63 65 65 66 68 71 71 72 73 75 76 78 78 79 80 82 82 83 87 88 90 97 98 99 "
     ]
    }
   ],
   "source": [
    "#sort list and separate by space\n",
    "nums.sort()\n",
    "for n in nums:\n",
    "    print (n, end = ' ')"
   ]
  },
  {
   "cell_type": "markdown",
   "id": "06b1f2d1-54f8-4c1d-9f0a-2152b4542151",
   "metadata": {},
   "source": [
    "## \"The Sample Mean\"\n",
    "- To calculate a sample mean, complete the following steps:\n",
    "- Calculate the sum of the sample items\n",
    "- Divide sum by the number of samples"
   ]
  },
  {
   "cell_type": "markdown",
   "id": "8b374757-4f87-4377-ad82-032610180dd7",
   "metadata": {},
   "source": [
    "$\\overline{X}$=$\\frac{\\sum\\ x_{i}}{n}\\$"
   ]
  },
  {
   "cell_type": "code",
   "execution_count": 3,
   "id": "2cc1ae04-427c-4796-bee6-d078f95b18f1",
   "metadata": {},
   "outputs": [
    {
     "name": "stdout",
     "output_type": "stream",
     "text": [
      "The sample mean is 65.72.\n"
     ]
    }
   ],
   "source": [
    "#calculate mean of random list\n",
    "total= 0\n",
    "for x in nums: \n",
    "    total += x\n",
    "mean = total/len(nums)\n",
    "print(f'The sample mean is {mean:.2f}.')"
   ]
  },
  {
   "cell_type": "markdown",
   "id": "cefb303d-9302-406a-a54c-63854be71603",
   "metadata": {},
   "source": [
    "## \"The Median\"\n",
    "https://en.wikipedia.org/wiki/Median"
   ]
  },
  {
   "cell_type": "code",
   "execution_count": 4,
   "id": "1a4ad257-6a40-446d-b76c-1fb9ed27bbe0",
   "metadata": {},
   "outputs": [
    {
     "name": "stdout",
     "output_type": "stream",
     "text": [
      "The median is 67.0\n"
     ]
    }
   ],
   "source": [
    "#The median of an even number of values is the average of the two middle numbers when arranged in ascending order.\n",
    "\n",
    "#calculate the median of random list\n",
    "x = len(nums)\n",
    "nums.sort()\n",
    "med1 = nums[x//2]\n",
    "med2 = nums[x//2-1]\n",
    "median = (med1 + med2)/2\n",
    "print(f'The median is {median:.1f}')"
   ]
  },
  {
   "cell_type": "code",
   "execution_count": null,
   "id": "80dd4253-228e-4166-afe6-9dbe052cdb24",
   "metadata": {},
   "outputs": [],
   "source": []
  }
 ],
 "metadata": {
  "kernelspec": {
   "display_name": "Python 3 (ipykernel)",
   "language": "python",
   "name": "python3"
  },
  "language_info": {
   "codemirror_mode": {
    "name": "ipython",
    "version": 3
   },
   "file_extension": ".py",
   "mimetype": "text/x-python",
   "name": "python",
   "nbconvert_exporter": "python",
   "pygments_lexer": "ipython3",
   "version": "3.9.13"
  }
 },
 "nbformat": 4,
 "nbformat_minor": 5
}
